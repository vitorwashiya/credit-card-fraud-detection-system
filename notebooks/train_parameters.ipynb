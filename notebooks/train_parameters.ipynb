{
 "cells": [
  {
   "cell_type": "code",
   "execution_count": 3,
   "metadata": {},
   "outputs": [
    {
     "name": "stdout",
     "output_type": "stream",
     "text": [
      "Collecting python-dotenv\n",
      "  Downloading python_dotenv-1.0.1-py3-none-any.whl.metadata (23 kB)\n",
      "Downloading python_dotenv-1.0.1-py3-none-any.whl (19 kB)\n",
      "Installing collected packages: python-dotenv\n",
      "Successfully installed python-dotenv-1.0.1\n",
      "Note: you may need to restart the kernel to use updated packages.\n"
     ]
    }
   ],
   "source": [
    "#%pip install python-dotenv\n",
    "#%pip install pandas\n",
    "#%pip install numpy\n",
    "#%pip install boto3"
   ]
  },
  {
   "cell_type": "code",
   "execution_count": 4,
   "metadata": {},
   "outputs": [],
   "source": [
    "import pandas as pd \n",
    "from pathlib import Path\n",
    "import numpy as np\n",
    "import json\n",
    "import boto3\n",
    "import os\n",
    "from dotenv import load_dotenv\n",
    "load_dotenv()\n",
    "\n",
    "ACCESS_KEY=os.getenv(\"ACESS_KEY\")\n",
    "SECRET_ACCESS_KEY=os.getenv(\"SECRET_ACCESS_KEY\")\n",
    "bucket_name = \"credit-card-fraud-detection-system-model-parameters\"\n",
    "region_name = \"sa-east-1\"\n",
    "\n",
    "\n",
    "data_path = Path('.').resolve().parent.joinpath(\"data\", \"creditcard_2023.csv\")\n",
    "data = pd.read_csv(data_path, dtype=str)\n",
    "data.rename(columns={\"id\": \"transaction_id\"}, inplace=True)\n",
    "data.drop(columns=[\"Amount\"], inplace=True)\n",
    "data[\"transaction_time\"] = data[\"transaction_id\"].apply(lambda x: (int(x) // 10) + 1)\n",
    "for col in [f\"V{i}\" for i in range(1,29)]:\n",
    "    data[col] = data[col].astype(float)\n",
    "\n",
    "s3 = boto3.client('s3', region_name=region_name, aws_access_key_id=ACCESS_KEY, aws_secret_access_key=SECRET_ACCESS_KEY)\n",
    "\n",
    "from sklearn.model_selection import train_test_split\n",
    "\n",
    "train, test = train_test_split(data, test_size=0.3, random_state=42)\n",
    "\n",
    "for fraud_cls in [0, 1]:\n",
    "    mu_g = train.query(f\"Class == '{fraud_cls}'\")[[f\"V{i}\" for i in range(1, 29)]].mean().to_list()\n",
    "    sigma_g = np.linalg.inv(train.query(f\"Class == '{fraud_cls}'\")[[f\"V{i}\" for i in range(1, 29)]].cov())\n",
    "    s3.put_object(Bucket=bucket_name, \n",
    "                  Key=f\"model_parameters_{fraud_cls}.json\", \n",
    "                  Body=json.dumps({\"mu\": mu_g, \"sigma\": sigma_g.tolist()}, indent=2))"
   ]
  },
  {
   "cell_type": "code",
   "execution_count": null,
   "metadata": {},
   "outputs": [],
   "source": []
  },
  {
   "cell_type": "code",
   "execution_count": null,
   "metadata": {},
   "outputs": [],
   "source": []
  }
 ],
 "metadata": {
  "kernelspec": {
   "display_name": "credit-card-fraud-detection-system",
   "language": "python",
   "name": "python3"
  },
  "language_info": {
   "codemirror_mode": {
    "name": "ipython",
    "version": 3
   },
   "file_extension": ".py",
   "mimetype": "text/x-python",
   "name": "python",
   "nbconvert_exporter": "python",
   "pygments_lexer": "ipython3",
   "version": "3.12.2"
  }
 },
 "nbformat": 4,
 "nbformat_minor": 2
}
