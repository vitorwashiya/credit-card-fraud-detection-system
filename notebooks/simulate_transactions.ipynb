{
 "cells": [
  {
   "cell_type": "code",
   "execution_count": 5,
   "metadata": {},
   "outputs": [],
   "source": [
    "import pandas as pd \n",
    "from pathlib import Path\n",
    "import numpy as np\n",
    "import json\n",
    "import requests\n",
    "import boto3\n",
    "import os\n",
    "from dotenv import load_dotenv\n",
    "load_dotenv()\n",
    "\n",
    "ACCESS_KEY=os.getenv(\"ACESS_KEY\")\n",
    "SECRET_ACCESS_KEY=os.getenv(\"SECRET_ACCESS_KEY\")\n",
    "bucket_name = \"credit-card-fraud-detection-system-model-parameters\"\n",
    "region_name = \"sa-east-1\"\n",
    "\n",
    "\n",
    "data_path = Path('.').resolve().parent.joinpath(\"data\", \"creditcard_2023.csv\")\n",
    "data = pd.read_csv(data_path, dtype=str)\n",
    "data.rename(columns={\"id\": \"transaction_id\"}, inplace=True)\n",
    "data.drop(columns=[\"Amount\"], inplace=True)\n",
    "data[\"transaction_time\"] = data[\"transaction_id\"].apply(lambda x: (int(x) // 10) + 1)\n",
    "\n",
    "s3 = boto3.client('s3', region_name=region_name, aws_access_key_id=ACCESS_KEY, aws_secret_access_key=SECRET_ACCESS_KEY)\n",
    "\n",
    "from sklearn.model_selection import train_test_split\n",
    "\n",
    "train, test = train_test_split(data, test_size=0.3, random_state=42)"
   ]
  },
  {
   "cell_type": "code",
   "execution_count": null,
   "metadata": {},
   "outputs": [],
   "source": [
    "api_gateway_url = \"\"\n",
    "for _, row in test.iterrows():\n",
    "    r = requests.post(f\"{api_gateway_url}\", data=json.dumps(row.to_dict()))\n",
    "    if r.status_code == 200:\n",
    "        print(r.content)"
   ]
  }
 ],
 "metadata": {
  "kernelspec": {
   "display_name": "credit-card-fraud-detection-system",
   "language": "python",
   "name": "python3"
  },
  "language_info": {
   "codemirror_mode": {
    "name": "ipython",
    "version": 3
   },
   "file_extension": ".py",
   "mimetype": "text/x-python",
   "name": "python",
   "nbconvert_exporter": "python",
   "pygments_lexer": "ipython3",
   "version": "3.12.2"
  }
 },
 "nbformat": 4,
 "nbformat_minor": 2
}
